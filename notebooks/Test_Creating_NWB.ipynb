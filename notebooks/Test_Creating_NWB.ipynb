{
 "cells": [
  {
   "cell_type": "code",
   "execution_count": 1,
   "metadata": {},
   "outputs": [],
   "source": [
    "%matplotlib inline\n",
    "%reload_ext autoreload\n",
    "%autoreload 2\n",
    "# %qtconsole\n",
    "%config InlineBackend.figure_format = 'retina'"
   ]
  },
  {
   "cell_type": "code",
   "execution_count": 2,
   "metadata": {},
   "outputs": [],
   "source": [
    "import logging\n",
    "\n",
    "FORMAT = '%(asctime)s %(message)s'\n",
    "\n",
    "logging.basicConfig(level='INFO', format=FORMAT, datefmt='%d-%b-%y %H:%M:%S')"
   ]
  },
  {
   "cell_type": "code",
   "execution_count": 4,
   "metadata": {},
   "outputs": [
    {
     "name": "stderr",
     "output_type": "stream",
     "text": [
      "13-Sep-19 14:26:42 Converting Bond day 3\n",
      "13-Sep-19 14:28:10 Successfully wrote NWB file ../nwb_data/bon03.nwb\n",
      "\n"
     ]
    }
   ],
   "source": [
    "import os\n",
    "import filterframework_to_nwb\n",
    "\n",
    "animal_name = 'Bond'\n",
    "animal_prefix = 'Bon'\n",
    "days = [3]\n",
    "\n",
    "data_dir =  os.path.join(os.pardir, 'example_filterframework_data', animal_name)\n",
    "nwb_dir = os.path.join(os.pardir, 'nwb_data')\n",
    "\n",
    "filterframework_to_nwb.convert_to_nwb(\n",
    "    data_dir, nwb_dir, animal_prefix, animal_name,\n",
    "    days, overwrite=True)"
   ]
  },
  {
   "cell_type": "code",
   "execution_count": 5,
   "metadata": {},
   "outputs": [
    {
     "data": {
      "text/plain": [
       "\n",
       "root <class 'pynwb.file.NWBFile'>\n",
       "Fields:\n",
       "  acquisition: {\n",
       "    LFP <class 'pynwb.ecephys.LFP'>\n",
       "  }\n",
       "  devices: {\n",
       "    NSpike acquisition system <class 'pynwb.device.Device'>\n",
       "  }\n",
       "  electrode_groups: {\n",
       "    001 <class 'pynwb.ecephys.ElectrodeGroup'>,\n",
       "    002 <class 'pynwb.ecephys.ElectrodeGroup'>,\n",
       "    003 <class 'pynwb.ecephys.ElectrodeGroup'>,\n",
       "    004 <class 'pynwb.ecephys.ElectrodeGroup'>,\n",
       "    005 <class 'pynwb.ecephys.ElectrodeGroup'>,\n",
       "    006 <class 'pynwb.ecephys.ElectrodeGroup'>,\n",
       "    007 <class 'pynwb.ecephys.ElectrodeGroup'>,\n",
       "    008 <class 'pynwb.ecephys.ElectrodeGroup'>,\n",
       "    010 <class 'pynwb.ecephys.ElectrodeGroup'>,\n",
       "    011 <class 'pynwb.ecephys.ElectrodeGroup'>,\n",
       "    012 <class 'pynwb.ecephys.ElectrodeGroup'>,\n",
       "    013 <class 'pynwb.ecephys.ElectrodeGroup'>,\n",
       "    014 <class 'pynwb.ecephys.ElectrodeGroup'>,\n",
       "    015 <class 'pynwb.ecephys.ElectrodeGroup'>,\n",
       "    017 <class 'pynwb.ecephys.ElectrodeGroup'>,\n",
       "    018 <class 'pynwb.ecephys.ElectrodeGroup'>,\n",
       "    019 <class 'pynwb.ecephys.ElectrodeGroup'>,\n",
       "    020 <class 'pynwb.ecephys.ElectrodeGroup'>,\n",
       "    021 <class 'pynwb.ecephys.ElectrodeGroup'>,\n",
       "    022 <class 'pynwb.ecephys.ElectrodeGroup'>,\n",
       "    023 <class 'pynwb.ecephys.ElectrodeGroup'>,\n",
       "    024 <class 'pynwb.ecephys.ElectrodeGroup'>,\n",
       "    025 <class 'pynwb.ecephys.ElectrodeGroup'>,\n",
       "    027 <class 'pynwb.ecephys.ElectrodeGroup'>,\n",
       "    028 <class 'pynwb.ecephys.ElectrodeGroup'>,\n",
       "    029 <class 'pynwb.ecephys.ElectrodeGroup'>,\n",
       "    030 <class 'pynwb.ecephys.ElectrodeGroup'>\n",
       "  }\n",
       "  electrodes: electrodes <class 'pynwb.core.DynamicTable'>\n",
       "  epochs: epochs <class 'pynwb.epoch.TimeIntervals'>\n",
       "  intervals: {\n",
       "    epochs <class 'pynwb.epoch.TimeIntervals'>\n",
       "  }\n",
       "  processing: {\n",
       "    Apparatus <class 'pynwb.base.ProcessingModule'>,\n",
       "    Behavior <class 'pynwb.base.ProcessingModule'>,\n",
       "    Task <class 'pynwb.base.ProcessingModule'>\n",
       "  }\n",
       "  subject: subject <class 'pynwb.file.Subject'>\n",
       "  units: units <class 'pynwb.misc.Units'>"
      ]
     },
     "execution_count": 5,
     "metadata": {},
     "output_type": "execute_result"
    }
   ],
   "source": [
    "import pynwb\n",
    "\n",
    "data_dir = os.path.pardir\n",
    "nwb_dir = os.path.join(data_dir, 'nwb_data')\n",
    "\n",
    "animal, day = 'bon', 3\n",
    "\n",
    "nwb_filename = f'{animal}{day:02d}.nwb'\n",
    "nwb_filepath = os.path.abspath(os.path.join(nwb_dir, nwb_filename))\n",
    "\n",
    "io = pynwb.NWBHDF5IO(nwb_filepath, mode='r')\n",
    "nwbf = io.read()\n",
    "nwbf"
   ]
  }
 ],
 "metadata": {
  "kernelspec": {
   "display_name": "Python [conda env:filterframework_to_nwb] *",
   "language": "python",
   "name": "conda-env-filterframework_to_nwb-py"
  },
  "language_info": {
   "codemirror_mode": {
    "name": "ipython",
    "version": 3
   },
   "file_extension": ".py",
   "mimetype": "text/x-python",
   "name": "python",
   "nbconvert_exporter": "python",
   "pygments_lexer": "ipython3",
   "version": "3.7.3"
  }
 },
 "nbformat": 4,
 "nbformat_minor": 4
}
